{
 "cells": [
  {
   "cell_type": "code",
   "execution_count": 22,
   "metadata": {},
   "outputs": [
    {
     "name": "stdout",
     "output_type": "stream",
     "text": [
      "[0 1 2 3 4 5] \n",
      "\n",
      "[[0 1 2]\n",
      " [3 4 5]]\n",
      "\n",
      " 0  1  2\n",
      " 3  4  5\n",
      "[torch.LongTensor of size 2x3]\n",
      "\n",
      "[[0 1 2]\n",
      " [3 4 5]]\n"
     ]
    }
   ],
   "source": [
    "import torch\n",
    "import numpy as np\n",
    "\n",
    "np_data = np.arange(6).reshape((2, 3))\n",
    "torch_data = torch.from_numpy(np_data)\n",
    "tensor2array = torch_data.numpy()\n",
    "\n",
    "print np.arange(6),\"\\n\"\n",
    "print np_data\n",
    "print torch_data\n",
    "print tensor2array"
   ]
  },
  {
   "cell_type": "code",
   "execution_count": 32,
   "metadata": {},
   "outputs": [
    {
     "name": "stdout",
     "output_type": "stream",
     "text": [
      "[1 2 2 4]\n",
      "\n",
      " 1\n",
      " 2\n",
      " 2\n",
      " 4\n",
      "[torch.FloatTensor of size 4]\n",
      "\n",
      "0.75\n",
      "0.75\n"
     ]
    }
   ],
   "source": [
    "data = [-1, -2, 2, 4]\n",
    "tensor = torch.FloatTensor(data)\n",
    "\n",
    "print np.abs(data)\n",
    "print torch.abs(tensor)\n",
    "print np.mean(data)\n",
    "print torch.mean(tensor)"
   ]
  },
  {
   "cell_type": "code",
   "execution_count": 34,
   "metadata": {},
   "outputs": [
    {
     "name": "stdout",
     "output_type": "stream",
     "text": [
      "\n",
      " 1  2\n",
      " 3  4\n",
      "[torch.FloatTensor of size 2x2]\n",
      "\n",
      "Variable containing:\n",
      " 1  2\n",
      " 3  4\n",
      "[torch.FloatTensor of size 2x2]\n",
      "\n"
     ]
    }
   ],
   "source": [
    "import torch\n",
    "from torch.autograd import Variable\n",
    "\n",
    "tensor = torch.FloatTensor([[1,2],[3,4]])\n",
    "variable = Variable(tensor, requires_grad=True)\n",
    "print(tensor)\n",
    "print(variable)"
   ]
  },
  {
   "cell_type": "code",
   "execution_count": 47,
   "metadata": {},
   "outputs": [
    {
     "name": "stdout",
     "output_type": "stream",
     "text": [
      "7.5\n",
      "Variable containing:\n",
      " 7.5000\n",
      "[torch.FloatTensor of size 1]\n",
      "\n",
      "Variable containing:\n",
      "  5.5000  11.0000\n",
      " 16.5000  22.0000\n",
      "[torch.FloatTensor of size 2x2]\n",
      "\n"
     ]
    }
   ],
   "source": [
    "t_out = torch.mean(tensor*tensor)       # x^2\n",
    "v_out = torch.mean(variable*variable)   # x^2\n",
    "print(t_out)\n",
    "print(v_out)\n",
    "v_out.backward()\n",
    "print(variable.grad)   "
   ]
  },
  {
   "cell_type": "code",
   "execution_count": 37,
   "metadata": {},
   "outputs": [
    {
     "name": "stdout",
     "output_type": "stream",
     "text": [
      "Variable containing:\n",
      " 1  2\n",
      " 3  4\n",
      "[torch.FloatTensor of size 2x2]\n",
      "\n",
      "\n",
      " 1  2\n",
      " 3  4\n",
      "[torch.FloatTensor of size 2x2]\n",
      "\n",
      "[[1. 2.]\n",
      " [3. 4.]]\n"
     ]
    }
   ],
   "source": [
    "print(variable)     \n",
    "print(variable.data)   \n",
    "print(variable.data.numpy())    "
   ]
  },
  {
   "cell_type": "code",
   "execution_count": 6,
   "metadata": {},
   "outputs": [],
   "source": [
    "import torch\n",
    "import torch.nn.functional as F \n",
    "from torch.autograd import Variable\n",
    "\n",
    "x = torch.linspace(-5, 5, 200)\n",
    "x = Variable(x)\n",
    "x_np = x.data.numpy()\n",
    "\n",
    "y_relu = F.relu(x).data.numpy()\n",
    "y_sigmoid = F.sigmoid(x).data.numpy()"
   ]
  },
  {
   "cell_type": "code",
   "execution_count": 86,
   "metadata": {},
   "outputs": [
    {
     "data": {
      "image/png": "[encoded data removed]",
      "text/plain": [
       "<Figure size 576x216 with 2 Axes>"
      ]
     },
     "metadata": {
      "needs_background": "light"
     },
     "output_type": "display_data"
    }
   ],
   "source": [
    "%matplotlib inline\n",
    "import matplotlib.pyplot as plt \n",
    "\n",
    "plt.figure(figsize=(8, 3))\n",
    "plt.subplot(121)\n",
    "plt.plot(x_np, y_relu, c='red', label='relu')\n",
    "plt.ylim((-1, 5))\n",
    "plt.legend()\n",
    "\n",
    "plt.subplot(122)\n",
    "plt.plot(x_np, y_sigmoid, c='blue', label='sigmoid')\n",
    "plt.ylim((-0.2, 1.3))\n",
    "plt.legend()\n",
    "plt.show()"
   ]
  },
  {
   "cell_type": "code",
   "execution_count": 1,
   "metadata": {},
   "outputs": [],
   "source": [
    "import os\n",
    "import torch\n",
    "import torch.nn as nn\n",
    "import torch.utils.data as Data\n",
    "import torchvision\n",
    "import matplotlib.pyplot as plt\n",
    "\n",
    "# Hyper Parameters\n",
    "EPOCH = 5           # train the training data n times\n",
    "BATCH_SIZE = 100\n",
    "LR = 0.01           # learning rate\n",
    "DOWNLOAD_MNIST = False\n",
    "if not(os.path.exists('./mnist/')) or not os.listdir('./mnist/'):\n",
    "    DOWNLOAD_MNIST = True\n",
    "\n",
    "train_data = torchvision.datasets.MNIST(\n",
    "    root='./mnist/',\n",
    "    train=True,                     # this is training data\n",
    "    # Converts a PIL.Image or numpy.ndarray to\n",
    "    # torch.FloatTensor of shape (C x H x W) \n",
    "    # and normalize in the range [0.0, 1.0]\n",
    "    transform=torchvision.transforms.ToTensor(),    \n",
    "    download=DOWNLOAD_MNIST,\n",
    ")"
   ]
  },
  {
   "cell_type": "code",
   "execution_count": 144,
   "metadata": {},
   "outputs": [
    {
     "name": "stdout",
     "output_type": "stream",
     "text": [
      "torch.Size([60000, 28, 28])\n",
      "torch.Size([60000])\n"
     ]
    },
    {
     "data": {
      "image/png": "[encoded data removed]",
      "text/plain": [
       "<Figure size 432x288 with 1 Axes>"
      ]
     },
     "metadata": {
      "needs_background": "light"
     },
     "output_type": "display_data"
    }
   ],
   "source": [
    "# plot one example\n",
    "print(train_data.train_data.size())                 \n",
    "print(train_data.train_labels.size())              \n",
    "plt.imshow(train_data.train_data[0].numpy(), cmap='gray')\n",
    "plt.show()"
   ]
  },
  {
   "cell_type": "code",
   "execution_count": 10,
   "metadata": {},
   "outputs": [
    {
     "name": "stdout",
     "output_type": "stream",
     "text": [
      " torch.Size([10000, 1, 28, 28]) torch.Size([10000])\n"
     ]
    }
   ],
   "source": [
    "# the image batch shape will be (batch_size, 1, 28, 28)\n",
    "train_loader = Data.DataLoader(dataset=train_data, batch_size=BATCH_SIZE, shuffle=True)\n",
    "\n",
    "# pick 2000 samples to speed up testing\n",
    "test_data = torchvision.datasets.MNIST(root='./mnist/', train=False)\n",
    "# shape from (2000, 28, 28) to (2000, 1, 28, 28), value in range(0,1)\n",
    "test_x = torch.unsqueeze(test_data.test_data, dim=1).type(torch.FloatTensor)/255.   \n",
    "test_y = test_data.test_labels\n",
    "print test_x.shape, test_y.shape\n"
   ]
  },
  {
   "cell_type": "code",
   "execution_count": 13,
   "metadata": {},
   "outputs": [
    {
     "name": "stdout",
     "output_type": "stream",
     "text": [
      "train_data's length: 60000\n",
      "train_loader's length: 600\n"
     ]
    }
   ],
   "source": [
    "#batch_size=16\n",
    "print \"train_data's length:\",len(train_data)\n",
    "print \"train_loader's length:\",len(train_loader)"
   ]
  },
  {
   "cell_type": "code",
   "execution_count": 4,
   "metadata": {},
   "outputs": [],
   "source": [
    "class CNN(nn.Module):\n",
    "    def __init__(self):\n",
    "        super(CNN, self).__init__()\n",
    "        self.conv1 = nn.Sequential(         # input shape (1, 28, 28)\n",
    "            nn.Conv2d(\n",
    "                in_channels=1,              # input channels\n",
    "                out_channels=16,            # n_filters\n",
    "                kernel_size=5,              # filter size\n",
    "                stride=1,                   # filter movement/step\n",
    "                padding=2,                  # output width=(width−kernel_size+2pad)/stride +1\n",
    "            ),                              # output width=(28-5+2*2)/1 +1=28\n",
    "                                            # output shape (16, 28, 28)\n",
    "            nn.ReLU(),                      # activation\n",
    "            # choose max value in 2x2 area, output shape (16, 14, 14)\n",
    "            nn.MaxPool2d(kernel_size=2),    \n",
    "        )\n",
    "        self.conv2 = nn.Sequential(         # input shape (16, 14, 14)\n",
    "            nn.Conv2d(16, 32, 5, 1, 2),     # output shape (32, 14, 14)\n",
    "            nn.ReLU(),                      # activation\n",
    "            nn.MaxPool2d(2),                # output shape (32, 7, 7)\n",
    "        )\n",
    "        self.out = nn.Linear(32 * 7 * 7, 10)   # fully connected layer, output 10 classes\n",
    "\n",
    "    def forward(self, x):\n",
    "        x = self.conv1(x)\n",
    "        x = self.conv2(x)\n",
    "        # flatten the output of conv2 to (batch_size, 32 * 7 * 7)\n",
    "        x = x.view(x.size(0), -1)      \n",
    "        output = self.out(x)\n",
    "        return output\n"
   ]
  },
  {
   "cell_type": "code",
   "execution_count": 4,
   "metadata": {},
   "outputs": [
    {
     "name": "stdout",
     "output_type": "stream",
     "text": [
      "CNN(\n",
      "  (conv1): Sequential(\n",
      "    (0): Conv2d(1, 16, kernel_size=(5, 5), stride=(1, 1), padding=(2, 2))\n",
      "    (1): ReLU()\n",
      "    (2): MaxPool2d(kernel_size=(2, 2), stride=(2, 2), dilation=(1, 1), ceil_mode=False)\n",
      "  )\n",
      "  (conv2): Sequential(\n",
      "    (0): Conv2d(16, 32, kernel_size=(5, 5), stride=(1, 1), padding=(2, 2))\n",
      "    (1): ReLU()\n",
      "    (2): MaxPool2d(kernel_size=(2, 2), stride=(2, 2), dilation=(1, 1), ceil_mode=False)\n",
      "  )\n",
      "  (out): Linear(in_features=1568, out_features=10, bias=True)\n",
      ")\n"
     ]
    }
   ],
   "source": [
    "cnn = CNN()\n",
    "print(cnn)  # net architecture"
   ]
  },
  {
   "cell_type": "code",
   "execution_count": 5,
   "metadata": {},
   "outputs": [
    {
     "name": "stdout",
     "output_type": "stream",
     "text": [
      "Epoch: 0  train loss:2.3013  test accuracy:0.097\n",
      "Epoch: 0  train loss:0.1047  test accuracy:0.972\n",
      "Epoch: 0  train loss:0.0377  test accuracy:0.965\n",
      "Epoch: 0  train loss:0.0900  test accuracy:0.977\n",
      "Epoch: 0  train loss:0.1658  test accuracy:0.977\n",
      "Epoch: 0  train loss:0.1477  test accuracy:0.981\n",
      "Epoch: 1  train loss:0.0304  test accuracy:0.982\n",
      "Epoch: 1  train loss:0.0190  test accuracy:0.984\n",
      "Epoch: 1  train loss:0.0785  test accuracy:0.985\n",
      "Epoch: 1  train loss:0.0303  test accuracy:0.984\n",
      "Epoch: 1  train loss:0.0574  test accuracy:0.981\n",
      "Epoch: 1  train loss:0.0167  test accuracy:0.986\n",
      "Epoch: 2  train loss:0.0052  test accuracy:0.982\n",
      "Epoch: 2  train loss:0.0471  test accuracy:0.986\n",
      "Epoch: 2  train loss:0.1207  test accuracy:0.980\n",
      "Epoch: 2  train loss:0.2241  test accuracy:0.981\n",
      "Epoch: 2  train loss:0.0122  test accuracy:0.984\n",
      "Epoch: 2  train loss:0.1199  test accuracy:0.980\n",
      "Epoch: 3  train loss:0.0918  test accuracy:0.980\n",
      "Epoch: 3  train loss:0.0094  test accuracy:0.987\n",
      "Epoch: 3  train loss:0.0148  test accuracy:0.986\n",
      "Epoch: 3  train loss:0.0191  test accuracy:0.987\n",
      "Epoch: 3  train loss:0.0583  test accuracy:0.980\n",
      "Epoch: 3  train loss:0.0652  test accuracy:0.981\n",
      "Epoch: 4  train loss:0.1145  test accuracy:0.986\n",
      "Epoch: 4  train loss:0.0247  test accuracy:0.986\n",
      "Epoch: 4  train loss:0.0463  test accuracy:0.987\n",
      "Epoch: 4  train loss:0.1236  test accuracy:0.986\n",
      "Epoch: 4  train loss:0.0040  test accuracy:0.987\n",
      "Epoch: 4  train loss:0.3553  test accuracy:0.982\n"
     ]
    },
    {
     "data": {
      "text/plain": [
       "208.28215098381042"
      ]
     },
     "execution_count": 5,
     "metadata": {},
     "output_type": "execute_result"
    }
   ],
   "source": [
    "import time\n",
    "from torch.autograd import Variable\n",
    "\n",
    "optimizer = torch.optim.Adam(cnn.parameters(), lr=LR)   # optimize all cnn parameters\n",
    "loss_func = nn.CrossEntropyLoss()   # the target label is not one-hotted\n",
    "# training\n",
    "aa=time.time()\n",
    "for epoch in range(EPOCH):\n",
    "    for step, (b_x, b_y) in enumerate(train_loader):\n",
    "        b_x=Variable(b_x)\n",
    "        b_y=Variable(b_y)\n",
    "        output = cnn(b_x)               # cnn output\n",
    "        loss = loss_func(output, b_y)   # cross entropy loss\n",
    "        optimizer.zero_grad()           # clear gradients for this training step\n",
    "        loss.backward()                 # backpropagation, compute gradients\n",
    "        optimizer.step()                # apply gradients\n",
    "        \n",
    "        if step % 100 == 0:\n",
    "            test_output = cnn(Variable(test_x))\n",
    "            pred_y = torch.max(test_output, 1)[1].data.numpy()\n",
    "            acc= (pred_y ==Variable(test_y).data.numpy()).astype(int).sum()/float(test_y.size(0))\n",
    "            print 'Epoch:',epoch,' train loss:%.4f' %loss.data.numpy(),' test accuracy:%.3f' %acc\n",
    "time.time()-aa"
   ]
  },
  {
   "cell_type": "code",
   "execution_count": 9,
   "metadata": {},
   "outputs": [
    {
     "name": "stdout",
     "output_type": "stream",
     "text": [
      "torch.Size([30, 10]) \n",
      "\n",
      "Variable containing:\n",
      " 16.0398\n",
      " 18.1984\n",
      "  8.2497\n",
      " 11.9835\n",
      " 16.7772\n",
      "  9.3603\n",
      "  8.3707\n",
      " 13.5447\n",
      " 12.6686\n",
      " 10.0674\n",
      " 17.9452\n",
      " 16.1196\n",
      " 14.8201\n",
      " 17.8345\n",
      " 11.0892\n",
      " 14.6689\n",
      " 15.8796\n",
      " 19.5271\n",
      "  1.6231\n",
      " 19.6039\n",
      "  6.7448\n",
      " 15.4297\n",
      " 18.0711\n",
      " 16.1308\n",
      " 13.1724\n",
      " 12.4532\n",
      " 17.7302\n",
      " 24.8392\n",
      " 11.5933\n",
      "  7.4988\n",
      "[torch.FloatTensor of size 30]\n",
      "\n",
      "Variable containing:\n",
      " 7\n",
      " 2\n",
      " 1\n",
      " 0\n",
      " 4\n",
      " 1\n",
      " 4\n",
      " 9\n",
      " 5\n",
      " 9\n",
      " 0\n",
      " 6\n",
      " 9\n",
      " 0\n",
      " 1\n",
      " 5\n",
      " 9\n",
      " 7\n",
      " 3\n",
      " 4\n",
      " 9\n",
      " 6\n",
      " 6\n",
      " 5\n",
      " 4\n",
      " 0\n",
      " 7\n",
      " 4\n",
      " 0\n",
      " 1\n",
      "[torch.LongTensor of size 30]\n",
      "\n"
     ]
    }
   ],
   "source": [
    "test=Variable(test_x[:30])\n",
    "test_output = cnn(test)\n",
    "pred_y = torch.max(test_output, 1)[1].data.numpy()\n",
    "\n",
    "print test_output.shape,\"\\n\"\n",
    "print torch.max(test_output, 1)[0]\n",
    "print torch.max(test_output, 1)[1]"
   ]
  },
  {
   "cell_type": "code",
   "execution_count": 28,
   "metadata": {},
   "outputs": [
    {
     "name": "stdout",
     "output_type": "stream",
     "text": [
      "[7 2 1 0 4 1 4 9 5 9 0 6 9 0 1 5 9 7 3 4 9 6 6 5 4 0 7 4 0 1] prediction number\n",
      "[7 2 1 0 4 1 4 9 5 9 0 6 9 0 1 5 9 7 3 4 9 6 6 5 4 0 7 4 0 1] real number\n"
     ]
    }
   ],
   "source": [
    "print pred_y, 'prediction number'\n",
    "print test_y[:30].numpy(), 'real number'"
   ]
  },
  {
   "cell_type": "code",
   "execution_count": 11,
   "metadata": {},
   "outputs": [
    {
     "name": "stdout",
     "output_type": "stream",
     "text": [
      "Epoch: 0  train loss:2.3063  test accuracy:0.159\n",
      "Epoch: 0  train loss:0.1355  test accuracy:0.949\n",
      "Epoch: 0  train loss:0.0656  test accuracy:0.969\n",
      "Epoch: 0  train loss:0.1027  test accuracy:0.969\n",
      "Epoch: 0  train loss:0.0703  test accuracy:0.978\n",
      "Epoch: 0  train loss:0.1169  test accuracy:0.976\n",
      "Epoch: 1  train loss:0.0431  test accuracy:0.981\n",
      "Epoch: 1  train loss:0.0536  test accuracy:0.982\n",
      "Epoch: 1  train loss:0.1091  test accuracy:0.980\n",
      "Epoch: 1  train loss:0.0167  test accuracy:0.982\n",
      "Epoch: 1  train loss:0.0482  test accuracy:0.980\n",
      "Epoch: 1  train loss:0.1124  test accuracy:0.983\n",
      "Epoch: 2  train loss:0.0253  test accuracy:0.980\n",
      "Epoch: 2  train loss:0.0202  test accuracy:0.983\n",
      "Epoch: 2  train loss:0.0101  test accuracy:0.982\n",
      "Epoch: 2  train loss:0.0787  test accuracy:0.981\n",
      "Epoch: 2  train loss:0.0762  test accuracy:0.983\n",
      "Epoch: 2  train loss:0.0461  test accuracy:0.981\n",
      "Epoch: 3  train loss:0.0181  test accuracy:0.985\n",
      "Epoch: 3  train loss:0.0929  test accuracy:0.984\n",
      "Epoch: 3  train loss:0.0335  test accuracy:0.983\n",
      "Epoch: 3  train loss:0.1149  test accuracy:0.983\n",
      "Epoch: 3  train loss:0.0670  test accuracy:0.981\n",
      "Epoch: 3  train loss:0.0765  test accuracy:0.984\n",
      "Epoch: 4  train loss:0.0121  test accuracy:0.976\n",
      "Epoch: 4  train loss:0.0114  test accuracy:0.981\n",
      "Epoch: 4  train loss:0.0455  test accuracy:0.980\n",
      "Epoch: 4  train loss:0.0390  test accuracy:0.984\n",
      "Epoch: 4  train loss:0.0955  test accuracy:0.983\n",
      "Epoch: 4  train loss:0.0445  test accuracy:0.985\n"
     ]
    },
    {
     "data": {
      "text/plain": [
       "18.878260135650635"
      ]
     },
     "execution_count": 11,
     "metadata": {},
     "output_type": "execute_result"
    }
   ],
   "source": [
    "import time\n",
    "from torch.autograd import Variable\n",
    "cnn = CNN().cuda()\n",
    "optimizer = torch.optim.Adam(cnn.parameters(), lr=LR)   # optimize all cnn parameters\n",
    "loss_func = nn.CrossEntropyLoss()   # the target label is not one-hotted\n",
    "# training\n",
    "aa=time.time()\n",
    "test_x=Variable(test_x).cuda()\n",
    "test_y=Variable(test_y).cuda()\n",
    "for epoch in range(EPOCH):\n",
    "    for step, (b_x, b_y) in enumerate(train_loader):\n",
    "        b_x=Variable(b_x).cuda()\n",
    "        b_y=Variable(b_y).cuda()\n",
    "        output = cnn(b_x)               # cnn output\n",
    "        loss = loss_func(output, b_y)   # cross entropy loss\n",
    "        optimizer.zero_grad()           # clear gradients for this training step\n",
    "        loss.backward()                 # backpropagation, compute gradients\n",
    "        optimizer.step()                # apply gradients\n",
    "        \n",
    "        if step % 100 == 0:\n",
    "            test_output = cnn(test_x)\n",
    "            pred_y = torch.max(test_output, 1)[1].data.cpu().numpy()\n",
    "            acc= (pred_y ==test_y.data.cpu().numpy()).astype(int).sum()/float(test_y.size(0))\n",
    "            print 'Epoch:',epoch,' train loss:%.4f' %loss.data.cpu().numpy(),' test accuracy:%.3f' %acc\n",
    "time.time()-aa"
   ]
  },
  {
   "cell_type": "code",
   "execution_count": null,
   "metadata": {},
   "outputs": [],
   "source": []
  },
  {
   "cell_type": "code",
   "execution_count": null,
   "metadata": {},
   "outputs": [],
   "source": []
  },
  {
   "cell_type": "code",
   "execution_count": 46,
   "metadata": {},
   "outputs": [
    {
     "name": "stdout",
     "output_type": "stream",
     "text": [
      "\n",
      "(0 ,.,.) = \n",
      "   0   1\n",
      "   2   3\n",
      "\n",
      "(1 ,.,.) = \n",
      "   4   5\n",
      "   6   7\n",
      "\n",
      "(2 ,.,.) = \n",
      "   8   9\n",
      "  10  11\n",
      "\n",
      "(3 ,.,.) = \n",
      "  12  13\n",
      "  14  15\n",
      "[torch.FloatTensor of size 4x2x2]\n",
      "\n",
      "\n",
      "(0 ,.,.) = \n",
      "  16  17\n",
      "  18  19\n",
      "\n",
      "(1 ,.,.) = \n",
      "  20  21\n",
      "  22  23\n",
      "\n",
      "(2 ,.,.) = \n",
      "  24  25\n",
      "  26  27\n",
      "\n",
      "(3 ,.,.) = \n",
      "  28  29\n",
      "  30  31\n",
      "[torch.FloatTensor of size 4x2x2]\n",
      "\n",
      "\n",
      "(0 ,.,.) = \n",
      "  32  33\n",
      "  34  35\n",
      "\n",
      "(1 ,.,.) = \n",
      "  36  37\n",
      "  38  39\n",
      "\n",
      "(2 ,.,.) = \n",
      "  40  41\n",
      "  42  43\n",
      "\n",
      "(3 ,.,.) = \n",
      "  44  45\n",
      "  46  47\n",
      "[torch.FloatTensor of size 4x2x2]\n",
      "\n",
      "Variable containing:\n",
      "(0 ,.,.) = \n",
      " -1.2683 -1.1958\n",
      " -1.1233 -1.0508\n",
      "\n",
      "(1 ,.,.) = \n",
      " -1.1149 -1.0512\n",
      " -0.9875 -0.9238\n",
      "\n",
      "(2 ,.,.) = \n",
      " -0.0342 -0.0323\n",
      " -0.0303 -0.0284\n",
      "\n",
      "(3 ,.,.) = \n",
      " -1.0084 -0.9507\n",
      " -0.8931 -0.8355\n",
      "[torch.FloatTensor of size 4x2x2]\n",
      "\n",
      "Variable containing:\n",
      "(0 ,.,.) = \n",
      " -0.1087 -0.0362\n",
      "  0.0362  0.1087\n",
      "\n",
      "(1 ,.,.) = \n",
      " -0.0956 -0.0319\n",
      "  0.0319  0.0956\n",
      "\n",
      "(2 ,.,.) = \n",
      " -0.0029 -0.0010\n",
      "  0.0010  0.0029\n",
      "\n",
      "(3 ,.,.) = \n",
      " -0.0864 -0.0288\n",
      "  0.0288  0.0864\n",
      "[torch.FloatTensor of size 4x2x2]\n",
      "\n",
      "Variable containing:\n",
      "(0 ,.,.) = \n",
      "  1.0508  1.1233\n",
      "  1.1958  1.2683\n",
      "\n",
      "(1 ,.,.) = \n",
      "  0.9238  0.9875\n",
      "  1.0512  1.1149\n",
      "\n",
      "(2 ,.,.) = \n",
      "  0.0284  0.0303\n",
      "  0.0323  0.0342\n",
      "\n",
      "(3 ,.,.) = \n",
      "  0.8355  0.8931\n",
      "  0.9507  1.0084\n",
      "[torch.FloatTensor of size 4x2x2]\n",
      "\n"
     ]
    }
   ],
   "source": [
    "for i in x:\n",
    "    print i\n",
    "for i in output:\n",
    "    print i"
   ]
  },
  {
   "cell_type": "code",
   "execution_count": null,
   "metadata": {},
   "outputs": [],
   "source": []
  },
  {
   "cell_type": "code",
   "execution_count": null,
   "metadata": {},
   "outputs": [],
   "source": []
  }
 ],
 "metadata": {
  "kernelspec": {
   "display_name": "Python 2",
   "language": "python",
   "name": "python2"
  },
  "language_info": {
   "codemirror_mode": {
    "name": "ipython",
    "version": 2
   },
   "file_extension": ".py",
   "mimetype": "text/x-python",
   "name": "python",
   "nbconvert_exporter": "python",
   "pygments_lexer": "ipython2",
   "version": "2.7.12"
  }
 },
 "nbformat": 4,
 "nbformat_minor": 2
}
