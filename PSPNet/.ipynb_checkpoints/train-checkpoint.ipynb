{
 "cells": [
  {
   "cell_type": "code",
   "execution_count": 1,
   "metadata": {},
   "outputs": [
    {
     "name": "stdout",
     "output_type": "stream",
     "text": [
      "Done initializing train_seqs Dataset\n",
      "Done initializing val_seqs Dataset\n"
     ]
    },
    {
     "data": {
      "text/plain": [
       "(675, 32)"
      ]
     },
     "execution_count": 1,
     "metadata": {},
     "output_type": "execute_result"
    }
   ],
   "source": [
    "from tensorboardX import SummaryWriter\n",
    "from torch.autograd import Variable\n",
    "from model import *\n",
    "from torchvision import transforms\n",
    "import util.loader.transform as tr\n",
    "from loader import Data_Preprocess\n",
    "from util.metrics import runningScore\n",
    "from util.loss import *\n",
    "from util.utils import *\n",
    "from util.helpers import *\n",
    "\n",
    "img_rows   = 240\n",
    "img_cols   = 320\n",
    "batch_size = 8\n",
    "lr         = 1e-4\n",
    "\n",
    "ttransforms = transforms.Compose([ tr.RandomHorizontalFlip(), \n",
    "                                   tr.Resize([img_rows, img_cols]),\n",
    "                                   tr.ToTensor()])\n",
    "tdataset = Data_Preprocess(db_root_dir='../data', train=True, transform=ttransforms)\n",
    "tdataloader = torch.utils.data.DataLoader(tdataset, batch_size=batch_size, shuffle=True, num_workers=8)\n",
    "\n",
    "vtransforms = transforms.Compose([ tr.Resize([img_rows, img_cols]),tr.ToTensor()])\n",
    "vdataset = Data_Preprocess(db_root_dir='../data', train=False, transform=vtransforms)\n",
    "vdataloader = torch.utils.data.DataLoader(vdataset, batch_size=batch_size, shuffle=False, num_workers=8)\n",
    "\n",
    "\n",
    "# Setup Metrics\n",
    "running_metrics = runningScore(pspnet_specs['n_classes'])\n",
    "\n",
    "# setup Model\n",
    "base_net = BaseNet()\n",
    "class_net = ClassNet()\n",
    "\n",
    "base_net.cuda()\n",
    "class_net.cuda()\n",
    "\n",
    "base_opt = torch.optim.Adam(base_net.parameters(), lr=lr,     betas=(0.5, 0.999))\n",
    "class_opt = torch.optim.Adam(class_net.parameters(), lr=lr,   betas=(0.5, 0.999))\n",
    "\n",
    "loss_fn = cross_entropy2d\n",
    "len(tdataloader),len(vdataloader)"
   ]
  },
  {
   "cell_type": "code",
   "execution_count": null,
   "metadata": {},
   "outputs": [
    {
     "name": "stdout",
     "output_type": "stream",
     "text": [
      "Epoch [1/100] Loss: 0.6229\n",
      "Epoch [1/100] Loss: 0.5179\n"
     ]
    }
   ],
   "source": [
    "writer = SummaryWriter('runs/train')\n",
    "\n",
    "best_iou = 0.97\n",
    "iter = 0\n",
    "for epoch in range(50):\n",
    "    base_net.train()\n",
    "    class_net.train()\n",
    "    \n",
    "    for i, data in enumerate(tdataloader):\n",
    "        images = Variable(data['image'].cuda())\n",
    "        labels  = Variable(data['gt'].type(torch.LongTensor).cuda())\n",
    "        \n",
    "        poly_lr_scheduler(base_opt , lr, iter, lr_decay_iter=1, max_iter=1e+5)\n",
    "        poly_lr_scheduler(class_opt, lr, iter, lr_decay_iter=1, max_iter=1e+5)\n",
    "        iter += 1\n",
    "\n",
    "        #############step1################\n",
    "        feature_map, inp = base_net(images)\n",
    "        outputs = class_net(feature_map, inp)\n",
    "        \n",
    "        base_opt.zero_grad()\n",
    "        class_opt.zero_grad()\n",
    "\n",
    "        loss = loss_fn(input=outputs, target=labels)\n",
    "        loss.backward()\n",
    "        class_opt.step()\n",
    "        base_opt.step()\n",
    " \n",
    "        writer.add_scalar('Loss', loss.data[0], iter)\n",
    "        if (i+1) % 100 == 0:\n",
    "            print(\"Epoch [%d/%d] Loss: %.4f\" % (epoch+1, 100, loss.data[0]))\n",
    "            \n",
    "    base_net.eval()\n",
    "    class_net.eval()\n",
    "    for i_val, data in enumerate(vdataloader):\n",
    "        images = Variable(data['image'].cuda(),volatile=True)\n",
    "        labels  = Variable(data['gt'].type(torch.LongTensor).cuda(),volatile=True)\n",
    "\n",
    "        feature_map,inp = base_net(images)\n",
    "        outputs = class_net(feature_map, inp)\n",
    "\n",
    "        mask = outputs.data.max(1)[1].cpu()\n",
    "        pred = mask.numpy()\n",
    "\n",
    "        gt = labels.data.cpu().numpy()\n",
    "        running_metrics.update(gt, pred)\n",
    "\n",
    "    score, class_iou = running_metrics.get_scores()\n",
    "    for k, v in score.items():\n",
    "        print(k, v)\n",
    "        if k == 'Mean IoU : \\t':\n",
    "            writer.add_scalar('IoU', v, epoch+1)\n",
    "    \n",
    "    running_metrics.reset() \n",
    "    \n",
    "    if score['Mean IoU : \\t'] >= best_iou:\n",
    "        best_iou = score['Mean IoU : \\t'] \n",
    "        torch.save(base_net.state_dict(), \"weight/base_net.pkl\")\n",
    "        torch.save(class_net.state_dict(), \"weight/class_net.pkl\")"
   ]
  },
  {
   "cell_type": "code",
   "execution_count": null,
   "metadata": {},
   "outputs": [],
   "source": []
  }
 ],
 "metadata": {
  "kernelspec": {
   "display_name": "Python 2",
   "language": "python",
   "name": "python2"
  },
  "language_info": {
   "codemirror_mode": {
    "name": "ipython",
    "version": 2
   },
   "file_extension": ".py",
   "mimetype": "text/x-python",
   "name": "python",
   "nbconvert_exporter": "python",
   "pygments_lexer": "ipython2",
   "version": "2.7.12"
  }
 },
 "nbformat": 4,
 "nbformat_minor": 2
}
